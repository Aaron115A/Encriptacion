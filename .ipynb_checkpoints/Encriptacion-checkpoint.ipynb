{
 "cells": [
  {
   "cell_type": "code",
   "execution_count": 3,
   "id": "b850a034",
   "metadata": {},
   "outputs": [],
   "source": [
    "#cargamos librerías de la matriz\n",
    "import pandas as pd\n",
    "import numpy as np"
   ]
  },
  {
   "cell_type": "code",
   "execution_count": 5,
   "id": "7c84b535",
   "metadata": {},
   "outputs": [],
   "source": [
    "#Ubicación del archivo\n",
    "matriz = pd.read_excel(\"C:\\matriz.xlsx\")\n",
    "mensaje_encriptado = []"
   ]
  },
  {
   "cell_type": "code",
   "execution_count": 6,
   "id": "4c200466",
   "metadata": {},
   "outputs": [],
   "source": [
    "#Debido a la naturaleza con la que se importó la matriz,\n",
    "#la matriz actualmente en un numpy array, necesitamos entonces generar la matriz como lista\n",
    "\n",
    "listaA = matriz[\"A\"].tolist()\n",
    "listaB = matriz[\"B\"].tolist()\n",
    "listaC = matriz[\"C\"].tolist()\n",
    "listaD = matriz[\"D\"].tolist()\n",
    "listaE = matriz[\"E\"].tolist()\n",
    "listaF = matriz[\"F\"].tolist()\n",
    "listaG = matriz[\"G\"].tolist()\n",
    "listaH = matriz[\"H\"].tolist()\n",
    "listaI = matriz[\"I\"].tolist()\n",
    "listaJ = matriz[\"J\"].tolist()\n",
    "listaK = matriz[\"K\"].tolist()\n",
    "listaL = matriz[\"L\"].tolist()\n",
    "listaM = matriz[\"M\"].tolist()\n",
    "listaN = matriz[\"N\"].tolist()\n",
    "listaO = matriz[\"O\"].tolist()\n",
    "listaP = matriz[\"P\"].tolist()\n",
    "listaQ = matriz[\"Q\"].tolist()\n",
    "listaR = matriz[\"R\"].tolist()\n",
    "listaS = matriz[\"S\"].tolist()\n",
    "listaT = matriz[\"T\"].tolist()\n",
    "listaU = matriz[\"U\"].tolist()\n",
    "listaV = matriz[\"V\"].tolist()\n",
    "listaW = matriz[\"W\"].tolist()\n",
    "listaX = matriz[\"X\"].tolist()\n",
    "listaY = matriz[\"Y\"].tolist()\n",
    "listaZ = matriz[\"Z\"].tolist()\n"
   ]
  },
  {
   "cell_type": "code",
   "execution_count": 7,
   "id": "0aae8c78",
   "metadata": {},
   "outputs": [
    {
     "name": "stdout",
     "output_type": "stream",
     "text": [
      "[['A' 'B' 'C' 'D' 'E' 'F' 'G' 'H' 'I' 'J' 'K' 'L' 'M' 'N' 'O' 'P' 'Q' 'R'\n",
      "  'S' 'T' 'U' 'V' 'W' 'X' 'Y' 'Z']\n",
      " ['B' 'C' 'D' 'E' 'F' 'G' 'H' 'I' 'J' 'K' 'L' 'M' 'N' 'O' 'P' 'Q' 'R' 'S'\n",
      "  'T' 'U' 'V' 'W' 'X' 'Y' 'Z' 'A']\n",
      " ['C' 'D' 'E' 'F' 'G' 'H' 'I' 'J' 'K' 'L' 'M' 'N' 'O' 'P' 'Q' 'R' 'S' 'T'\n",
      "  'U' 'V' 'W' 'X' 'Y' 'Z' 'A' 'B']\n",
      " ['D' 'E' 'F' 'G' 'H' 'I' 'J' 'K' 'L' 'M' 'N' 'O' 'P' 'Q' 'R' 'S' 'T' 'U'\n",
      "  'V' 'W' 'X' 'Y' 'Z' 'A' 'B' 'C']\n",
      " ['E' 'F' 'G' 'H' 'I' 'J' 'K' 'L' 'M' 'N' 'O' 'P' 'Q' 'R' 'S' 'T' 'U' 'V'\n",
      "  'W' 'X' 'Y' 'Z' 'A' 'B' 'C' 'D']\n",
      " ['F' 'G' 'H' 'I' 'J' 'K' 'L' 'M' 'N' 'O' 'P' 'Q' 'R' 'S' 'T' 'U' 'V' 'W'\n",
      "  'X' 'Y' 'Z' 'A' 'B' 'C' 'D' 'E']\n",
      " ['G' 'H' 'I' 'J' 'K' 'L' 'M' 'N' 'O' 'P' 'Q' 'R' 'S' 'T' 'U' 'V' 'W' 'X'\n",
      "  'Y' 'Z' 'A' 'B' 'C' 'D' 'E' 'F']\n",
      " ['H' 'I' 'J' 'K' 'L' 'M' 'N' 'O' 'P' 'Q' 'R' 'S' 'T' 'U' 'V' 'W' 'X' 'Y'\n",
      "  'Z' 'A' 'B' 'C' 'D' 'E' 'F' 'G']\n",
      " ['I' 'J' 'K' 'L' 'M' 'N' 'O' 'P' 'Q' 'R' 'S' 'T' 'U' 'V' 'W' 'X' 'Y' 'Z'\n",
      "  'A' 'B' 'C' 'D' 'E' 'F' 'G' 'H']\n",
      " ['J' 'K' 'L' 'M' 'N' 'O' 'P' 'Q' 'R' 'S' 'T' 'U' 'V' 'W' 'X' 'Y' 'Z' 'A'\n",
      "  'B' 'C' 'D' 'E' 'F' 'G' 'H' 'I']\n",
      " ['K' 'L' 'M' 'N' 'O' 'P' 'Q' 'R' 'S' 'T' 'U' 'V' 'W' 'X' 'Y' 'Z' 'A' 'B'\n",
      "  'C' 'D' 'E' 'F' 'G' 'H' 'I' 'J']\n",
      " ['L' 'M' 'N' 'O' 'P' 'Q' 'R' 'S' 'T' 'U' 'V' 'W' 'X' 'Y' 'Z' 'A' 'B' 'C'\n",
      "  'D' 'E' 'F' 'G' 'H' 'I' 'J' 'K']\n",
      " ['M' 'N' 'O' 'P' 'Q' 'R' 'S' 'T' 'U' 'V' 'W' 'X' 'Y' 'Z' 'A' 'B' 'C' 'D'\n",
      "  'E' 'F' 'G' 'H' 'I' 'J' 'K' 'L']\n",
      " ['N' 'O' 'P' 'Q' 'R' 'S' 'T' 'U' 'V' 'W' 'X' 'Y' 'Z' 'A' 'B' 'C' 'D' 'E'\n",
      "  'F' 'G' 'H' 'I' 'J' 'K' 'L' 'M']\n",
      " ['O' 'P' 'Q' 'R' 'S' 'T' 'U' 'V' 'W' 'X' 'Y' 'Z' 'A' 'B' 'C' 'D' 'E' 'F'\n",
      "  'G' 'H' 'I' 'J' 'K' 'L' 'M' 'N']\n",
      " ['P' 'Q' 'R' 'S' 'T' 'U' 'V' 'W' 'X' 'Y' 'Z' 'A' 'B' 'C' 'D' 'E' 'F' 'G'\n",
      "  'H' 'I' 'J' 'K' 'L' 'M' 'N' 'O']\n",
      " ['Q' 'R' 'S' 'T' 'U' 'V' 'W' 'X' 'Y' 'Z' 'A' 'B' 'C' 'D' 'E' 'F' 'G' 'H'\n",
      "  'I' 'J' 'K' 'L' 'M' 'N' 'O' 'P']\n",
      " ['R' 'S' 'T' 'U' 'V' 'W' 'X' 'Y' 'Z' 'A' 'B' 'C' 'D' 'E' 'F' 'G' 'H' 'I'\n",
      "  'J' 'K' 'L' 'M' 'N' 'O' 'P' 'Q']\n",
      " ['S' 'T' 'U' 'V' 'W' 'X' 'Y' 'Z' 'A' 'B' 'C' 'D' 'E' 'F' 'G' 'H' 'I' 'J'\n",
      "  'K' 'L' 'M' 'N' 'O' 'P' 'Q' 'R']\n",
      " ['T' 'U' 'V' 'W' 'X' 'Y' 'Z' 'A' 'B' 'C' 'D' 'E' 'F' 'G' 'H' 'I' 'J' 'K'\n",
      "  'L' 'M' 'N' 'O' 'P' 'Q' 'R' 'S']\n",
      " ['U' 'V' 'W' 'X' 'Y' 'Z' 'A' 'B' 'C' 'D' 'E' 'F' 'G' 'H' 'I' 'J' 'K' 'L'\n",
      "  'M' 'N' 'O' 'P' 'Q' 'R' 'S' 'T']\n",
      " ['V' 'W' 'X' 'Y' 'Z' 'A' 'B' 'C' 'D' 'E' 'F' 'G' 'H' 'I' 'J' 'K' 'L' 'M'\n",
      "  'N' 'O' 'P' 'Q' 'R' 'S' 'T' 'U']\n",
      " ['W' 'X' 'Y' 'Z' 'A' 'B' 'C' 'D' 'E' 'F' 'G' 'H' 'I' 'J' 'K' 'L' 'M' 'N'\n",
      "  'O' 'P' 'Q' 'R' 'S' 'T' 'U' 'V']\n",
      " ['X' 'Y' 'Z' 'A' 'B' 'C' 'D' 'E' 'F' 'G' 'H' 'I' 'J' 'K' 'L' 'M' 'N' 'O'\n",
      "  'P' 'Q' 'R' 'S' 'T' 'U' 'V' 'W']\n",
      " ['Y' 'Z' 'A' 'B' 'C' 'D' 'E' 'F' 'G' 'H' 'I' 'J' 'K' 'L' 'M' 'N' 'O' 'P'\n",
      "  'Q' 'R' 'S' 'T' 'U' 'V' 'W' 'X']\n",
      " ['Z' 'A' 'B' 'C' 'D' 'F' 'G' 'H' 'I' 'J' 'K' 'L' 'M' 'N' 'O' 'P' 'Q' 'R'\n",
      "  'S' 'T' 'U' 'V' 'W' 'X' 'Y' 'Y']]\n"
     ]
    }
   ],
   "source": [
    "lista_final = np.vstack((listaA,listaB,listaC,listaD,listaE,listaF,listaG,listaH,listaI,listaJ,listaK,listaL,listaM,\n",
    "                        listaN,listaO,listaP,listaQ,listaR,listaS,listaT,listaU,listaV,listaW,listaX,listaY,listaZ))\n",
    "\n",
    "print(lista_final)"
   ]
  },
  {
   "cell_type": "code",
   "execution_count": 9,
   "id": "485bce00",
   "metadata": {},
   "outputs": [
    {
     "name": "stdout",
     "output_type": "stream",
     "text": [
      "['E', 'S', 'A', 'H', 'G', 'X', 'S']\n"
     ]
    }
   ],
   "source": [
    "texto_plano = \"RESULTA\"\n",
    "clave = \"NOINVESTIGUES\"\n",
    "\n",
    "#textoplano.upper()\n",
    "#clave.upper()\n",
    "\n",
    "for i in range(len(texto_plano)):\n",
    "    #obtengamos la letra del texto plano\n",
    "    letra_texto_plano = texto_plano[i]\n",
    "    #necesitamos conocer el indice de textoplano en la tabla\n",
    "    indice_columna = list(listaA).index(texto_plano[i])\n",
    "    #necesitamos conocer el indice del renglón, el renglón es la clave\n",
    "    indice_renglon = list(listaA).index(clave[i])\n",
    "    #saquemos la letra encriptada\n",
    "    letra_encriptada = lista_final[indice_columna][indice_renglon]\n",
    "    #guardemos las letras encriptadas\n",
    "    mensaje_encriptado.append(letra_encriptada)\n",
    "    #fin encriptacion\n",
    "    \n",
    "print(mensaje_encriptado)"
   ]
  },
  {
   "cell_type": "code",
   "execution_count": 11,
   "id": "e1684610",
   "metadata": {},
   "outputs": [
    {
     "name": "stdout",
     "output_type": "stream",
     "text": [
      "RESULTA\n"
     ]
    }
   ],
   "source": [
    "# se convierte matriz en lista\n",
    "lista_final = matriz.values.tolist()\n",
    "\n",
    "#se agrega el mensaje encriptado\n",
    "mensaje_encriptado = ['E', 'S', 'A', 'H', 'G', 'X', 'S']  \n",
    "\n",
    "clave = \"NOINVESTIGUES\"\n",
    "\n",
    "texto_desencriptado = []\n",
    "\n",
    "for i in range(len(mensaje_encriptado)):\n",
    "    letra_encriptada = mensaje_encriptado[i]\n",
    "    indice_renglon = matriz.columns.get_loc(clave[i])\n",
    "    indice_columna = lista_final[indice_renglon].index(letra_encriptada)\n",
    "    letra_desencriptada = matriz.columns[indice_columna]\n",
    "    texto_desencriptado.append(letra_desencriptada)\n",
    "\n",
    "print(\"\".join(texto_desencriptado))\n"
   ]
  },
  {
   "cell_type": "code",
   "execution_count": null,
   "id": "38f1dcc0",
   "metadata": {},
   "outputs": [],
   "source": []
  }
 ],
 "metadata": {
  "kernelspec": {
   "display_name": "Python 3 (ipykernel)",
   "language": "python",
   "name": "python3"
  },
  "language_info": {
   "codemirror_mode": {
    "name": "ipython",
    "version": 3
   },
   "file_extension": ".py",
   "mimetype": "text/x-python",
   "name": "python",
   "nbconvert_exporter": "python",
   "pygments_lexer": "ipython3",
   "version": "3.10.9"
  }
 },
 "nbformat": 4,
 "nbformat_minor": 5
}
