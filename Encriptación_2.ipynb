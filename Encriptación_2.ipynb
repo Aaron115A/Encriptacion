{
 "cells": [
  {
   "cell_type": "markdown",
   "id": "ff2234ea",
   "metadata": {},
   "source": [
    "# #ABC Normal"
   ]
  },
  {
   "cell_type": "code",
   "execution_count": 37,
   "id": "863d5977",
   "metadata": {},
   "outputs": [],
   "source": [
    "letras = ['A','B','C','D','E','F','G','H','I','J','K','L','M','N','Ñ','O','P','Q','R','S','T','U','V','W','X','Y','Z']\n",
    "valores = [0,1,2,3,4,5,6,7,8,9,10,11,12,13,14,15,16,17,18,19,20,21,22,23,24,25,26]\n",
    "valoresnuevos = [3,17,22,9,23,18,24,20,4,6,16,10,19,5,25,14,2,21,1,26,8,15,0,11,13,12,7]\n",
    "textoplano = \"HELLOWORLD\"\n",
    "clave = \"FACULTADDEINFORMATICA\""
   ]
  },
  {
   "cell_type": "code",
   "execution_count": 38,
   "id": "7c7458ee",
   "metadata": {},
   "outputs": [
    {
     "name": "stdout",
     "output_type": "stream",
     "text": [
      "Texto plano a numérico: [7, 4, 11, 11, 15, 23, 15, 18, 11, 3]\n"
     ]
    }
   ],
   "source": [
    "textoplanoanumerico = []\n",
    "for i in range(len(textoplano)):\n",
    "    letranormal = textoplano[i]\n",
    "    valornumtextplano = letras.index(letranormal)\n",
    "    valornumtextplanohecho = valores[valornumtextplano]\n",
    "    textoplanoanumerico.append(valornumtextplanohecho)\n",
    "\n",
    "print(\"Texto plano a numérico:\", textoplanoanumerico)"
   ]
  },
  {
   "cell_type": "code",
   "execution_count": 39,
   "id": "b3051c94",
   "metadata": {},
   "outputs": [
    {
     "name": "stdout",
     "output_type": "stream",
     "text": [
      "Clave a numérico: [5, 0, 2, 21, 11, 20, 0, 3, 3, 4, 8, 13, 5, 15, 18, 12, 0, 20, 8, 2, 0]\n"
     ]
    }
   ],
   "source": [
    "claveanumerico = []\n",
    "for i in range(len(clave)):\n",
    "    letranormal = clave[i]\n",
    "    valornumclave = letras.index(letranormal)\n",
    "    valornumclavehecho = valores[valornumclave]\n",
    "    claveanumerico.append(valornumclavehecho)\n",
    "\n",
    "print(\"Clave a numérico:\", claveanumerico)"
   ]
  },
  {
   "cell_type": "code",
   "execution_count": 40,
   "id": "4b013df0",
   "metadata": {},
   "outputs": [
    {
     "name": "stdout",
     "output_type": "stream",
     "text": [
      "Cifrado por suma: [12, 4, 13, 5, 26, 16, 15, 21, 14, 7]\n"
     ]
    }
   ],
   "source": [
    "cifradosuma = []\n",
    "for i in range(len(textoplano)):\n",
    "    suma = (textoplanoanumerico[i] + claveanumerico[i]) % 27\n",
    "    cifradosuma.append(suma)\n",
    "    \n",
    "print(\"Cifrado por suma:\", cifradosuma)"
   ]
  },
  {
   "cell_type": "code",
   "execution_count": 28,
   "id": "7a44e373",
   "metadata": {},
   "outputs": [
    {
     "name": "stdout",
     "output_type": "stream",
     "text": [
      "Cifrado en letras: ['M', 'E', 'N', 'F', 'Z', 'P', 'O', 'U', 'Ñ', 'H']\n"
     ]
    }
   ],
   "source": [
    "cifradoletras = []\n",
    "for valor in cifradosuma:\n",
    "    letra = letras[valor]\n",
    "    cifradoletras.append(letra)\n",
    "\n",
    "print(\"Cifrado en letras:\", cifradoletras)"
   ]
  },
  {
   "cell_type": "markdown",
   "id": "8d49b399",
   "metadata": {},
   "source": [
    "# Nuevo Orden Numérico"
   ]
  },
  {
   "cell_type": "code",
   "execution_count": 44,
   "id": "1ba0c0f4",
   "metadata": {},
   "outputs": [
    {
     "name": "stdout",
     "output_type": "stream",
     "text": [
      "Texto plano a numérico: [20, 23, 10, 10, 14, 11, 14, 1, 10, 9]\n"
     ]
    }
   ],
   "source": [
    "textoplanoanumerico = []\n",
    "for i in range(len(textoplano)):\n",
    "    letranormal = textoplano[i]\n",
    "    valornumtextplano = letras.index(letranormal)\n",
    "    valornumtextplanohecho = valoresnuevos[valornumtextplano]\n",
    "    textoplanoanumerico.append(valornumtextplanohecho)\n",
    "\n",
    "print(\"Texto plano a numérico:\", textoplanoanumerico)"
   ]
  },
  {
   "cell_type": "code",
   "execution_count": 45,
   "id": "fbcbfa03",
   "metadata": {},
   "outputs": [
    {
     "name": "stdout",
     "output_type": "stream",
     "text": [
      "Clave a numérico: [18, 3, 22, 15, 10, 8, 3, 9, 9, 23, 4, 5, 18, 14, 1, 19, 3, 8, 4, 22, 3]\n"
     ]
    }
   ],
   "source": [
    "claveanumerico = []\n",
    "for i in range(len(clave)):\n",
    "    letranormal = clave[i]\n",
    "    valornumclave = letras.index(letranormal)\n",
    "    valornumclavehecho = valoresnuevos[valornumclave]\n",
    "    claveanumerico.append(valornumclavehecho)\n",
    "\n",
    "print(\"Clave a numérico:\", claveanumerico)"
   ]
  },
  {
   "cell_type": "code",
   "execution_count": 46,
   "id": "63c1aaef",
   "metadata": {},
   "outputs": [
    {
     "name": "stdout",
     "output_type": "stream",
     "text": [
      "Cifrado por suma: [11, 26, 5, 25, 24, 19, 17, 10, 19, 5]\n"
     ]
    }
   ],
   "source": [
    "cifradosuma = []\n",
    "for i in range(len(textoplano)):\n",
    "    suma = (textoplanoanumerico[i] + claveanumerico[i]) % 27\n",
    "    cifradosuma.append(suma)\n",
    "\n",
    "print(\"Cifrado por suma:\", cifradosuma)"
   ]
  },
  {
   "cell_type": "code",
   "execution_count": 47,
   "id": "8a519397",
   "metadata": {},
   "outputs": [
    {
     "name": "stdout",
     "output_type": "stream",
     "text": [
      "Cifrado en letras: ['W', 'S', 'N', 'Ñ', 'G', 'M', 'B', 'L', 'M', 'N']\n"
     ]
    }
   ],
   "source": [
    "cifradoletras = []\n",
    "for valor in cifradosuma:\n",
    "    letra = letras[valoresnuevos.index(valor)]\n",
    "    cifradoletras.append(letra)\n",
    "\n",
    "print(\"Cifrado en letras:\", cifradoletras)"
   ]
  },
  {
   "cell_type": "markdown",
   "id": "372b93a2",
   "metadata": {},
   "source": [
    "# #Desencriptación\n"
   ]
  },
  {
   "cell_type": "code",
   "execution_count": 49,
   "id": "cc835c5d",
   "metadata": {},
   "outputs": [
    {
     "name": "stdout",
     "output_type": "stream",
     "text": [
      "Cifrado en valores numéricos: [11, 26, 5, 25, 24, 19, 17, 10, 19, 5]\n"
     ]
    }
   ],
   "source": [
    "desencriptado_numerico = []\n",
    "for letra in cifradoletras:\n",
    "    valor = letras.index(letra)\n",
    "    desencriptado_numerico.append(valoresnuevos[valor])\n",
    "\n",
    "print(\"Cifrado en valores numéricos:\", desencriptado_numerico)"
   ]
  },
  {
   "cell_type": "code",
   "execution_count": 50,
   "id": "cdce7ed8",
   "metadata": {},
   "outputs": [
    {
     "name": "stdout",
     "output_type": "stream",
     "text": [
      "Cifrado por suma: [38, 26, 32, 25, 24, 19, 17, 10, 19, 32]\n"
     ]
    }
   ],
   "source": [
    "desencriptado_suma = []\n",
    "for i in range(len(textoplano)):\n",
    "    suma = (textoplanoanumerico[i] + claveanumerico[i]) \n",
    "    desencriptado_suma.append(suma)\n",
    "\n",
    "print(\"Cifrado por suma:\", desencriptado_suma)"
   ]
  },
  {
   "cell_type": "code",
   "execution_count": 52,
   "id": "273d3430",
   "metadata": {},
   "outputs": [
    {
     "name": "stdout",
     "output_type": "stream",
     "text": [
      "Desencriptado por resta: [20, 23, 10, 10, 14, 11, 14, 1, 10, 9]\n"
     ]
    }
   ],
   "source": [
    "desencriptado_suma_total = []\n",
    "for i in range(len(desencriptado_suma)):\n",
    "    resta = (desencriptado_suma[i] - claveanumerico[i]) % 27\n",
    "    desencriptado_suma_total.append(resta)\n",
    "\n",
    "print(\"Desencriptado por resta:\", desencriptado_suma_total"
   ]
  },
  {
   "cell_type": "code",
   "execution_count": 55,
   "id": "dabc7841",
   "metadata": {},
   "outputs": [
    {
     "name": "stdout",
     "output_type": "stream",
     "text": [
      "Texto desencriptado: HELLOWORLD\n"
     ]
    }
   ],
   "source": [
    "desencriptado_letras = []\n",
    "for valor in desencriptado_suma_total:\n",
    "    letra = letras[valoresnuevos.index(valor)]\n",
    "    desencriptado_letras.append(letra)\n",
    "\n",
    "texto_desencriptado = ''.join(desencriptado_letras)\n",
    "print(\"Texto desencriptado:\", texto_desencriptado)"
   ]
  },
  {
   "cell_type": "code",
   "execution_count": null,
   "id": "5b2ff52f",
   "metadata": {},
   "outputs": [],
   "source": []
  }
 ],
 "metadata": {
  "kernelspec": {
   "display_name": "Python 3 (ipykernel)",
   "language": "python",
   "name": "python3"
  },
  "language_info": {
   "codemirror_mode": {
    "name": "ipython",
    "version": 3
   },
   "file_extension": ".py",
   "mimetype": "text/x-python",
   "name": "python",
   "nbconvert_exporter": "python",
   "pygments_lexer": "ipython3",
   "version": "3.11.3"
  }
 },
 "nbformat": 4,
 "nbformat_minor": 5
}
